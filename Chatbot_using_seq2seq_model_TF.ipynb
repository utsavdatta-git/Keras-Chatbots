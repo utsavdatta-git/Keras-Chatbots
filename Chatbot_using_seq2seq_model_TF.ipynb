{
  "nbformat": 4,
  "nbformat_minor": 0,
  "metadata": {
    "colab": {
      "name": "Chatbot using seq2seq model TF.ipynb",
      "provenance": [],
      "collapsed_sections": [],
      "toc_visible": true,
      "include_colab_link": true
    },
    "kernelspec": {
      "name": "python3",
      "display_name": "Python 3"
    }
  },
  "cells": [
    {
      "cell_type": "markdown",
      "metadata": {
        "id": "view-in-github",
        "colab_type": "text"
      },
      "source": [
        "<a href=\"https://colab.research.google.com/github/utsavdatta-git/keras_chatbots/blob/master/Chatbot_using_seq2seq_model_TF.ipynb\" target=\"_parent\"><img src=\"https://colab.research.google.com/assets/colab-badge.svg\" alt=\"Open In Colab\"/></a>"
      ]
    },
    {
      "cell_type": "markdown",
      "metadata": {
        "id": "34DVNKgqQY21",
        "colab_type": "text"
      },
      "source": [
        "# 1 - Data Preprocessing (Personality chat datasets)"
      ]
    },
    {
      "cell_type": "markdown",
      "metadata": {
        "id": "7cWUxAQrGlq6",
        "colab_type": "text"
      },
      "source": [
        "## 1.1. Download Dataset (Personality chat datasets)"
      ]
    },
    {
      "cell_type": "code",
      "metadata": {
        "id": "U7C4snIcNl22",
        "colab_type": "code",
        "colab": {}
      },
      "source": [
        "def setup_google_drive():\n",
        "  # Code to download file into Colaboratory:\n",
        "  !pip install -U -q PyDrive\n",
        "  from pydrive.auth import GoogleAuth\n",
        "  from pydrive.drive import GoogleDrive\n",
        "  from google.colab import auth\n",
        "  from oauth2client.client import GoogleCredentials\n",
        "  # Authenticate and create the PyDrive client.\n",
        "  auth.authenticate_user()\n",
        "  gauth = GoogleAuth()\n",
        "  gauth.credentials = GoogleCredentials.get_application_default()\n",
        "  drive = GoogleDrive(gauth)\n",
        "  return drive\n",
        "  \n",
        "def download_personality_data(drive):\n",
        "  #Downloading 3 Personality chat dataset files, change the ids with your own files and locations\n",
        "  id = '1tIQYqkdyN58w3MSyqydCU07qkJiZNo3i'\n",
        "  downloaded = drive.CreateFile({'id':id}) \n",
        "  downloaded.GetContentFile('qna_chitchat_the_comic.tsv') \n",
        "\n",
        "  id = '1aqTcA0N6UQl3jIeMMrxdF-aAlvtL9NVg'\n",
        "  downloaded = drive.CreateFile({'id':id}) \n",
        "  downloaded.GetContentFile('qna_chitchat_the_professional.tsv')\n",
        "\n",
        "  id = '1e5EJ5DJnFlhfAPOmU5jg5AVfzaH3BURb'\n",
        "  downloaded = drive.CreateFile({'id':id}) \n",
        "  downloaded.GetContentFile('qna_chitchat_the_friend.tsv')"
      ],
      "execution_count": 0,
      "outputs": []
    },
    {
      "cell_type": "markdown",
      "metadata": {
        "id": "l9gBSgBCQh24",
        "colab_type": "text"
      },
      "source": [
        "## 1.2. Preprocess data (Personality chat datasets)"
      ]
    },
    {
      "cell_type": "markdown",
      "metadata": {
        "id": "8RdKI8E2KRwe",
        "colab_type": "text"
      },
      "source": [
        "Data preprocessing techniques used:\n",
        "\n",
        "1. **De-capitalization** - changing all word case to lowercase. \n",
        "\n",
        "    **Justification** - The goal of de-capitalization is to make all words for word embedding model and all words of seq2seq model input change to lowercase to make them uniform across the board. This reduces the size of vocab and increases performance during model creation and chat execution without losing word contexts.\n",
        "    \n",
        "2. **Word Contraction Removal** - Removing word contractions as much as possible\n",
        "\n",
        "    **Justification** - Removing word contractions helps to keep the vocab of word embedding model to an optimum size. For e.g. there could be many forms of a single phrase in the dataset like \"are not\" may exist as  {\"aren't\", \"are not\"}. Our goal is to keep only one of these in the vocab. Also, it helps to eradicate the special character \" ' '\" without losing the word meaning and standardize common words.\n",
        "    \n",
        "3. **Punctuation Removal**  -  Remove all punctuations from the input text\n",
        "\n",
        "     **Justification** - Punctutations like \",\" and \".\" do not hold any extra information for our chatbot which mainly words on a series of whole words. Hence we have removed them. Also, having punctuations in the word embedding model may lead to unwanted errors due to presence of an unexpected punctutations which might be present in the validation text but not in the text on which the word embedding model was trained. As we know, fasttext (word embedding we have used here) will store n-grams of whole words but not of special characters.\n",
        "     \n",
        "4. **Remove Numbers and Non-alphanumeric characters** \n",
        "\n",
        "    **Justification** -  The justification for this is also to remove special characters which do not necessarily add to the meaning of a word in sentences and keep the word representations effective. Although numbers may have some role to define context (e.g. I want that 4 my birthday), in this assignmrnt we have assumed that the user will enter whole words (for instead of 4)\n",
        "     \n",
        "4. **Lemmatization** - Keeping only a meaningful lemma of various forms of a word\n",
        "\n",
        "     **Justification** - The goal of lemmatization is to keep only a meaningful word lemma in the fastext vocab and help cover a wide range of word forms by a single representation. This helps reduce missing words in the vocab during chat bot execution. For e.g. we intend to represent {\"running\", \"runs\"} by the word \"run\".\n",
        "     \n",
        "5. **Stemming** - Reducing inflection in words to their root forms\n",
        "\n",
        "    **Justification** - The main goal of Stemming is to keep only the root form of a word in the fastext model to further reduce the size of fastext vocab and help it cover a large no. of word forms by a single stem represenation. For e.g. \"troubl\" will represent {\"trouble, \"troubling\", \"troubled\"...}. \n",
        "    \n",
        "    \n",
        "After preprocessing, we get a list containing tokenized words with pre-processing steps applied e.g a text = \"like a sentence e.g \"I am running, he's running too\" will be transformed as  ['i', 'am', 'run', 'he', 'is', 'run', 'too']"
      ]
    },
    {
      "cell_type": "code",
      "metadata": {
        "id": "emyl1lWxGr12",
        "colab_type": "code",
        "colab": {}
      },
      "source": [
        "#-----------------------------------------------------------------------------\n",
        "# Function name: text_preprocess\n",
        "# Purpose: This fuction pre-processes an input text through a series of pre-processing pipelines.\n",
        "#          It has been implemented as a function to be used as a common function \n",
        "#          to pre-process texts at any stage of the assignment             \n",
        "# Input: a string of text\n",
        "# Output: preprocessed list of words\n",
        "#-----------------------------------------------------------------------------\n",
        "def text_preprocess(text):\n",
        "  #Strip leading and trailing spaces and De-capitalize\n",
        "  text = str(text).strip().lower()\n",
        "  #These are just common English contractions as much as possible\n",
        "  contraction_dict = {\"ain't\": \"is not\", \"aren't\": \"are not\",\"can't\": \"cannot\", \"'cause\": \"because\", \"could've\": \"could have\", \n",
        "                    \"couldn't\": \"could not\", \"didn't\": \"did not\",  \"doesn't\": \"does not\", \"don't\": \"do not\", \"hadn't\": \"had not\", \n",
        "                    \"hasn't\": \"has not\", \"haven't\": \"have not\", \"he'd\": \"he would\",\"he'll\": \"he will\", \"he's\": \"he is\", \"how'd\": \"how did\", \n",
        "                    \"how'd'y\": \"how do you\", \"how'll\": \"how will\", \"how's\": \"how is\",  \"I'd\": \"I would\", \"I'd've\": \"I would have\", \n",
        "                    \"I'll\": \"I will\", \"I'll've\": \"I will have\",\"I'm\": \"I am\", \"I've\": \"I have\", \"i'd\": \"i would\", \"i'd've\": \"i would have\", \n",
        "                    \"i'll\": \"i will\",  \"i'll've\": \"i will have\",\"i'm\": \"i am\", \"i've\": \"i have\", \"isn't\": \"is not\", \"it'd\": \"it would\", \n",
        "                    \"it'd've\": \"it would have\", \"it'll\": \"it will\", \"it'll've\": \"it will have\",\"it's\": \"it is\", \"let's\": \"let us\", \n",
        "                    \"ma'am\": \"madam\", \"mayn't\": \"may not\", \"might've\": \"might have\",\"mightn't\": \"might not\",\"mightn't've\": \"might not have\", \n",
        "                    \"must've\": \"must have\", \"mustn't\": \"must not\", \"mustn't've\": \"must not have\", \"needn't\": \"need not\", \"needn't've\": \"need not have\",\n",
        "                    \"o'clock\": \"of the clock\", \"oughtn't\": \"ought not\", \"oughtn't've\": \"ought not have\", \"shan't\": \"shall not\", \"sha'n't\": \"shall not\", \n",
        "                    \"shan't've\": \"shall not have\", \"she'd\": \"she would\", \"she'd've\": \"she would have\", \"she'll\": \"she will\", \"she'll've\": \"she will have\", \n",
        "                    \"she's\": \"she is\", \"should've\": \"should have\", \"shouldn't\": \"should not\", \"shouldn't've\": \"should not have\", \"so've\": \"so have\",\n",
        "                    \"so's\": \"so as\", \"this's\": \"this is\",\"that'd\": \"that would\", \"that'd've\": \"that would have\", \"that's\": \"that is\", \"there'd\": \"there would\", \n",
        "                    \"there'd've\": \"there would have\", \"there's\": \"there is\", \"here's\": \"here is\",\"they'd\": \"they would\", \"they'd've\": \"they would have\", \n",
        "                    \"they'll\": \"they will\", \"they'll've\": \"they will have\", \"they're\": \"they are\", \"they've\": \"they have\", \"to've\": \"to have\", \"wasn't\": \"was not\", \n",
        "                    \"we'd\": \"we would\", \"we'd've\": \"we would have\", \"we'll\": \"we will\", \"we'll've\": \"we will have\", \"we're\": \"we are\", \"we've\": \"we have\", \n",
        "                    \"weren't\": \"were not\", \"what'll\": \"what will\", \"what'll've\": \"what will have\", \"what're\": \"what are\",  \"what's\": \"what is\", \"what've\": \"what have\", \n",
        "                    \"when's\": \"when is\", \"when've\": \"when have\", \"where'd\": \"where did\", \"where's\": \"where is\", \"where've\": \"where have\", \"who'll\": \"who will\", \n",
        "                    \"who'll've\": \"who will have\", \"who's\": \"who is\", \"who've\": \"who have\", \"why's\": \"why is\", \"why've\": \"why have\", \"will've\": \"will have\", \n",
        "                    \"won't\": \"will not\", \"won't've\": \"will not have\", \"would've\": \"would have\", \"wouldn't\": \"would not\", \"wouldn't've\": \"would not have\", \n",
        "                    \"y'all\": \"you all\", \"y'all'd\": \"you all would\",\"y'all'd've\": \"you all would have\",\"y'all're\": \"you all are\",\"y'all've\": \"you all have\",\n",
        "                    \"you'd\": \"you would\", \"you'd've\": \"you would have\", \"you'll\": \"you will\", \"you'll've\": \"you will have\", \"you're\": \"you are\", \"you've\": \"you have\"}\n",
        "  #Removing contractions\n",
        "  text_cleaned = \" \".join([contraction_dict.get(x,x) for x in text.split()])\n",
        "  \n",
        "  #Removing punctuations, removing numbers and mupliple spaces\n",
        "  CUSTOM_FILTERS = [lambda x: x, strip_punctuation, strip_numeric, strip_multiple_whitespaces,strip_non_alphanum]\n",
        "  dialogues_list_preprocessed = preprocess_string(text_cleaned, CUSTOM_FILTERS)\n",
        " \n",
        "  stemmer = PorterStemmer()\n",
        "  \n",
        "  lemmatizer = WordNetLemmatizer()\n",
        "  \n",
        "  #Stemming and Lemmatizing\n",
        "  dialogues_list_preprocessed = [lemmatizer.lemmatize(x) for x in dialogues_list_preprocessed]\n",
        "  dialogues_list_preprocessed = [stemmer.stem(x) for x in dialogues_list_preprocessed]\n",
        "  dialogues_list_preprocessed = [x.replace(\"’\",\"\") for x in dialogues_list_preprocessed]\n",
        "  \n",
        "  return dialogues_list_preprocessed"
      ],
      "execution_count": 0,
      "outputs": []
    },
    {
      "cell_type": "markdown",
      "metadata": {
        "id": "LIu_lkJwQ55g",
        "colab_type": "text"
      },
      "source": [
        "# 2 - Model Implementation"
      ]
    },
    {
      "cell_type": "markdown",
      "metadata": {
        "id": "daDvAftceIvr",
        "colab_type": "text"
      },
      "source": [
        "## 2.1. Word Embeddings"
      ]
    },
    {
      "cell_type": "markdown",
      "metadata": {
        "id": "lbzm-NWBTmM-",
        "colab_type": "text"
      },
      "source": [
        "We have used **FastText** word embedding model.\n",
        "\n",
        "**Justification** - We would like to avoid runtime errors during chatbot execution which might happen due to non-existence of certain unexpected words in the word2vec model. Unlike CBOW and SkipGram, FastText stores original word representation in its model along with n-grams of the word too. Due to this FastText model has an additional ability to return word vectors for out-of-vocabulary words. This is the reason we chose FastText. "
      ]
    },
    {
      "cell_type": "markdown",
      "metadata": {
        "id": "it6I1_K7HTub",
        "colab_type": "text"
      },
      "source": [
        "### 2.1.1. Download Dataset for Word Embeddings\n",
        "\n"
      ]
    },
    {
      "cell_type": "markdown",
      "metadata": {
        "id": "4Op66omXKVHa",
        "colab_type": "text"
      },
      "source": [
        "We have used Cornell Movie Lines Dataset for building Word Embeddings. This corpus contains a large no. of conversations (220,579 conversational exchanges between 10,292 pairs of movie characters). Therefore, this corpus will have more life-like conversations and as it contains 9,035 characters from 617 movies, it will have diffrent contexts of words from different situations. Due to this, the model will have large and effective dataset to learn from and create meaningful word represenataions."
      ]
    },
    {
      "cell_type": "code",
      "metadata": {
        "id": "QLjf_pm9NiA8",
        "colab_type": "code",
        "colab": {}
      },
      "source": [
        "# Download Dataset for Word Embeddings\n",
        "def download_and_read_word_embed_data(drive):\n",
        "  id = '1Gn7fjrCZ_Orqgh-BpmIkS-r_JnehbHji'\n",
        "  downloaded = drive.CreateFile({'id':id}) \n",
        "  downloaded.GetContentFile('movie_lines.txt')\n",
        "\n",
        "  # Read the Cornell Movie Dialog Corpus (movie_lines.txt) which has all the movie dialogues\n",
        "  diag = pd.read_csv(\"movie_lines.txt\",delimiter = \"\\+\\+\\+\\$\\+\\+\\+\", names=[0,1,2,3,4],engine='python')\n",
        "  diag.head(2)\n",
        "  dialogues_list = list(diag[4])\n",
        "  return dialogues_list"
      ],
      "execution_count": 0,
      "outputs": []
    },
    {
      "cell_type": "markdown",
      "metadata": {
        "id": "GXgFpxIgl-_G",
        "colab_type": "text"
      },
      "source": [
        "### 2.1.2. Data Preprocessing for Word Embeddings"
      ]
    },
    {
      "cell_type": "markdown",
      "metadata": {
        "id": "qhAgWf_AmbZ8",
        "colab_type": "text"
      },
      "source": [
        "### 2.1.3. Build Word Embeddings Model"
      ]
    },
    {
      "cell_type": "markdown",
      "metadata": {
        "id": "AJ8rU7JbiBVS",
        "colab_type": "text"
      },
      "source": [
        "**Hyperparameters:**\n",
        "\n",
        "1. size: We have used a popular size of word vectors. We think this is good for having effective word representation.\n",
        "\n",
        "2. window: We have a used a popular window size to learn from. We think this is good for undestanding context of a word effectively."
      ]
    },
    {
      "cell_type": "code",
      "metadata": {
        "id": "TVPuwWgvNjOU",
        "colab_type": "code",
        "colab": {}
      },
      "source": [
        "#-----------------------------------------------------------------------------\n",
        "# Function name: word2vec_fasttext\n",
        "# Purpose: This function takes a list of sentences and builds a word2vec (fasttext) representation of words\n",
        "# Input: a list of lists containing sentences e.g. [[\"sentence 1\",\"sentence 2\",\"sentence 3\"]]\n",
        "# Output: fasttext word2vec model trained over the input\n",
        "#-----------------------------------------------------------------------------\n",
        "def word2vec_fasttext(sentences):\n",
        "  ft_sg_model = FastText(sentences, size=100, window=5, min_count=5, workers=4, sg=1)\n",
        "  return ft_sg_model"
      ],
      "execution_count": 0,
      "outputs": []
    },
    {
      "cell_type": "markdown",
      "metadata": {
        "id": "LNys5HOdISK-",
        "colab_type": "text"
      },
      "source": [
        "### 2.1.4. Train Word Embeddings Model"
      ]
    },
    {
      "cell_type": "code",
      "metadata": {
        "id": "Ae8i7Z2kIef-",
        "colab_type": "code",
        "colab": {}
      },
      "source": [
        "# Call the word2vec_fasttext function to create the model using the sentences appearing in Cornell- \n",
        "# movie dialogue dataset\n",
        "def train_word2vec_model(dialogues_list):\n",
        "  final_model_input=[]\n",
        "  for x in dialogues_list:\n",
        "    final_model_input.append(text_preprocess(x))\n",
        "  ft_sg_model = word2vec_fasttext(final_model_input)\n",
        "  return ft_sg_model"
      ],
      "execution_count": 0,
      "outputs": []
    },
    {
      "cell_type": "markdown",
      "metadata": {
        "id": "uMCv3YI1IfUo",
        "colab_type": "text"
      },
      "source": [
        "### 2.1.5. Save Word Embeddings Model"
      ]
    },
    {
      "cell_type": "code",
      "metadata": {
        "id": "3OwicNPkIqd1",
        "colab_type": "code",
        "colab": {}
      },
      "source": [
        "# Save trained fasttext model to google drive\n",
        "def save_word2vec_model(model):\n",
        "  model.save(\"/content/gdrive/My Drive/chatbot/word2vec_fasttext_model\")"
      ],
      "execution_count": 0,
      "outputs": []
    },
    {
      "cell_type": "markdown",
      "metadata": {
        "id": "Yn16xrDrIs8B",
        "colab_type": "text"
      },
      "source": [
        "### 2.1.6. Load Word Embeddings Model"
      ]
    },
    {
      "cell_type": "code",
      "metadata": {
        "id": "-IebpYFsIvgh",
        "colab_type": "code",
        "colab": {}
      },
      "source": [
        "# Load fasttext model for use from google drive\n",
        "def load_word2vec_model():\n",
        "  word2vec_fasttext_model_saved = FastText.load(\"/content/gdrive/My Drive/chatbot/word2vec_fasttext_model\")\n",
        "  return word2vec_fasttext_model_saved"
      ],
      "execution_count": 0,
      "outputs": []
    },
    {
      "cell_type": "markdown",
      "metadata": {
        "id": "tlCeWT8eeLnd",
        "colab_type": "text"
      },
      "source": [
        "## 2.2. Seq2Seq model"
      ]
    },
    {
      "cell_type": "markdown",
      "metadata": {
        "id": "fwA-NN3EJ4Ig",
        "colab_type": "text"
      },
      "source": [
        "### 2.2.1. Apply/Import Word Embedding Model"
      ]
    },
    {
      "cell_type": "markdown",
      "metadata": {
        "id": "UAMJrxx-iOVn",
        "colab_type": "text"
      },
      "source": [
        "*We have done experiments to choose the correct value for the hyperparameter \"learning rate\"\". Given below are some of the trend in loss over 6000 epochs for diffrent learning rates (we used a lot of different learning rates but we have shown here the best ones that lead to highest loss). This experiment was done on the \"qna_chitchat_the_friend\"*\n",
        "\n",
        "![alt text](data:image/png;base64,iVBORw0KGgoAAAANSUhEUgAAA3IAAAG5CAYAAADLZwa/AAAABHNCSVQICAgIfAhkiAAAAAlwSFlz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%0AiEiZUSAnIiIiIiJSZv4f1iQySXlDV8YAAAAASUVORK5CYII=)\n",
        "\n",
        "We chose learning rate = 0.001\n",
        "\n",
        "Additionally, we did some experiments to choose the correct and optimum value for no. of hidden layers. The plots for different values of no. of hidden layers w.r.t epoch and Loss achieved is given below. Since seq2seq model training is an infrequent exercise, we chose 256 hidden layers (for friend and comic datasets) and 128 layers for Professional datasets as they achieved comparatively lower loss over 6000 epochs.\n",
        "\n",
        "![alt text](data:image/png;base64,iVBORw0KGgoAAAANSUhEUgAAA3IAAAG5CAYAAADLZwa/AAAABHNCSVQICAgIfAhkiAAAAAlwSFlz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%0A9c6I6PqHQRkAAAAASUVORK5CYII=)\n"
      ]
    },
    {
      "cell_type": "markdown",
      "metadata": {
        "id": "DpYCL17JKZxl",
        "colab_type": "text"
      },
      "source": [
        "### 2.2.2. Build Seq2Seq Model"
      ]
    },
    {
      "cell_type": "code",
      "metadata": {
        "id": "13eCtR_SLUG6",
        "colab_type": "code",
        "colab": {}
      },
      "source": [
        "# get word2vec vectors for words in question\n",
        "def get_vectors_q(sentence, num_dic, max_input_words_amount,ft_sg_model_saved):\n",
        "    # tokenise the sentence\n",
        "    tokenized_sentence = word_tokenize(sentence) \n",
        "    diff = max_input_words_amount - len(tokenized_sentence)\n",
        "    \n",
        "    # add paddings if the word is shorter than the maximum number of words    \n",
        "    for x in range(diff):\n",
        "        tokenized_sentence.append('_P_')\n",
        "        \n",
        "    data = tokens_to_ids(tokenized_sentence,num_dic,\"q\",ft_sg_model_saved)           \n",
        "    return data\n",
        "\n",
        "# get token index vector of answer\n",
        "def get_vectors_a(sentence, num_dic):    \n",
        "    tokenized_sentence = [sentence]\n",
        "    data = tokens_to_ids(tokenized_sentence,num_dic,\"a\",ft_sg_model_saved)  \n",
        "    return data\n",
        "    \n",
        "\n",
        "# convert tokens to index\n",
        "def tokens_to_ids(tokenized_sentence,num_dic,input_type,ft_sg_model_saved):\n",
        "    ids = []\n",
        "    if input_type == \"q\":\n",
        "      for token in tokenized_sentence:\n",
        "            ids.append(ft_sg_model_saved[token])\n",
        "    if input_type == \"a\":      \n",
        "      for token in tokenized_sentence:\n",
        "          if token in num_dic:\n",
        "              ids.append(num_dic[token])\n",
        "          else:\n",
        "              ids.append(num_dic[\"_U_\"])\n",
        "    return ids\n",
        "\n",
        "\n",
        "# generate a batch data for training/testing\n",
        "def make_batch(seq_data, num_dic, max_input_words_amount,ft_sg_model_saved):\n",
        "    input_batch = []\n",
        "    output_batch = []\n",
        "    target_batch = []\n",
        "    for seq in seq_data:\n",
        "        # Input for encoder cell, convert question to vector\n",
        "        input_data = get_vectors_q(seq[0], num_dic, max_input_words_amount,ft_sg_model_saved)           \n",
        "        # Input for decoder cell, Add '_B_' at the beginning of the sequence data\n",
        "        output_data = [num_dic['_B_']] \n",
        "        output_data += get_vectors_a(seq[1],num_dic)\n",
        "        # Output of decoder cell (Actual result), Add '_E_' at the end of the sequence data\n",
        "        target = get_vectors_a(seq[1],num_dic)\n",
        "        target.append(num_dic['_E_'])                             \n",
        "        # Convert each token vector to one-hot encode data\n",
        "        input_batch.append(input_data)\n",
        "        output_batch.append(np.eye(len(num_dic))[output_data])\n",
        "        target_batch.append(target)\n",
        "    return input_batch, output_batch, target_batch\n",
        "\n",
        "#-----------------------------------------------------------------------------\n",
        "# Function name: enumerate_question_and_answer\n",
        "# Purpose: This function creates a dictionary of words to be used to fetch word2vec represenation of training data and \n",
        "#          decides input/output vector length of the seq2seq model\n",
        "# Input: dataset filename, e.g. qna_chitchat_the_comic.tsv\n",
        "# Output: Sequence data, Generate unique tokens list from qas.json\n",
        "#-----------------------------------------------------------------------------\n",
        "def enumerate_question_and_answer(dataset_filename):\n",
        "  seq_data = []\n",
        "  whole_words = []\n",
        "  max_input_words_amount = 0\n",
        "  max_output_words_amount = 1\n",
        "\n",
        "\n",
        "  df = pd.read_csv(dataset_filename, sep=\"\\t\")\n",
        "  for index, row in df.iterrows():\n",
        "      question = ' '.join(text_preprocess(row[0]))\n",
        "      answer = row[1]\n",
        "      seq_data.append( [question,answer] )\n",
        "      # we need to tokenise question    \n",
        "      tokenized_q = word_tokenize(question)\n",
        "\n",
        "      # we do not need to tokenise answer (because we implement N to One model)\n",
        "      # make a list with only one element (whole sentence)\n",
        "      tokenized_a = [answer]\n",
        "      # add question list and answer list (one element)\n",
        "      whole_words += tokenized_q\n",
        "      whole_words += tokenized_a\n",
        "      # we need to decide the maximum size of input word tokens\n",
        "      max_input_words_amount = max(len(tokenized_q), max_input_words_amount)\n",
        "\n",
        "\n",
        "  # we now have a vacabulary list\n",
        "  unique_words = list(set(whole_words))\n",
        "\n",
        "  # adding special tokens in the vocabulary list    \n",
        "  # _B_: Beginning of Sequence\n",
        "  # _E_: Ending of Sequence\n",
        "  # _P_: Padding of Sequence - for different size input\n",
        "  # _U_: Unknown element of Sequence - for different size input\n",
        "\n",
        "  unique_words.append('_B_')\n",
        "  unique_words.append('_E_')\n",
        "  unique_words.append('_P_')\n",
        "  unique_words.append('_U_')\n",
        "  \n",
        "  unique_words = sorted(unique_words)\n",
        "\n",
        "  num_dic = {n: i for i, n in enumerate(unique_words)}\n",
        "  dic_len = len(num_dic)\n",
        "  \n",
        "  return seq_data, num_dic, dic_len, max_input_words_amount, max_output_words_amount, unique_words"
      ],
      "execution_count": 0,
      "outputs": []
    },
    {
      "cell_type": "markdown",
      "metadata": {
        "id": "6BaOiaGRLW7R",
        "colab_type": "text"
      },
      "source": [
        "### 2.2.3. Train Seq2Seq Model"
      ]
    },
    {
      "cell_type": "code",
      "metadata": {
        "id": "lVQnUSX1LZ6C",
        "colab_type": "code",
        "colab": {}
      },
      "source": [
        "#-----------------------------------------------------------------------------\n",
        "# Function name: build_train_save_seq2seq_model\n",
        "# Purpose: This function build the Seq2Seq model and trains it for a set no. of epochs and then saves it in google drive\n",
        "# Input: dataset filename, e.g. qna_chitchat_the_comic.tsv, fasttext model (to fetch word vectors for words in questions)\n",
        "# Output: None\n",
        "#-----------------------------------------------------------------------------\n",
        "def build_train_save_seq2seq_model(filename,ft_sg_model_saved, no_of_layers):\n",
        "  seq_data, num_dic, dic_len, max_input_words_amount, max_output_words_amount,unique_words = enumerate_question_and_answer(filename)\n",
        "  ### Neural Network Model\n",
        "  tf.reset_default_graph()\n",
        "  ### Setting Hyperparameters\n",
        "  learning_rate = 0.001\n",
        "  n_hidden = no_of_layers\n",
        "\n",
        "  n_class = dic_len\n",
        "  n_input = dic_len\n",
        "\n",
        "  # encoder/decoder shape = [batch size, time steps, input size]\n",
        "  enc_input = tf.placeholder(tf.float32, [None, None, 100],name=\"enc_input_train\")\n",
        "  dec_input = tf.placeholder(tf.float32, [None, None, n_input],name=\"dec_input_train\")\n",
        "  # target shape = [batch size, time steps]\n",
        "  targets = tf.placeholder(tf.int64, [None, None],name=\"targets_train\")\n",
        "\n",
        "\n",
        "  # Encoder Cell\n",
        "  with tf.variable_scope('encode'):\n",
        "      enc_cell = tf.nn.rnn_cell.BasicRNNCell(n_hidden)\n",
        "      enc_cell = tf.nn.rnn_cell.DropoutWrapper(enc_cell, output_keep_prob=0.5)\n",
        "\n",
        "      outputs, enc_states = tf.nn.dynamic_rnn(enc_cell, enc_input,\n",
        "                                              dtype=tf.float32)\n",
        "  # Decoder Cell\n",
        "  with tf.variable_scope('decode'):\n",
        "      dec_cell = tf.nn.rnn_cell.BasicRNNCell(n_hidden)\n",
        "      dec_cell = tf.nn.rnn_cell.DropoutWrapper(dec_cell, output_keep_prob=0.5)\n",
        "\n",
        "      # [IMPORTANT] Setting enc_states as inital_state of decoder cell\n",
        "      outputs, dec_states = tf.nn.dynamic_rnn(dec_cell, dec_input,\n",
        "                                              initial_state=enc_states,\n",
        "                                              dtype=tf.float32)\n",
        "\n",
        "  model = tf.layers.dense(outputs, n_class, activation=None, name=\"model\")\n",
        "\n",
        "  cost = tf.reduce_mean(\n",
        "              tf.nn.sparse_softmax_cross_entropy_with_logits(\n",
        "                  logits=model, labels=targets, name=\"softmax\"),name=\"cost\")\n",
        "\n",
        "  optimizer = tf.train.AdamOptimizer(learning_rate,name=\"adam\").minimize(cost,name=\"optimizer\")\n",
        "\n",
        "\n",
        "  ### Training Model\n",
        "  init=tf.global_variables_initializer()\n",
        "  sess = tf.Session()\n",
        "  sess.run(init)\n",
        "\n",
        "  # Generate a batch data\n",
        "  input_batch, output_batch, target_batch = make_batch(seq_data, num_dic, max_input_words_amount, ft_sg_model_saved)\n",
        "\n",
        "  total_epoch = 6000\n",
        "\n",
        "  for epoch in range(total_epoch):\n",
        "      _,loss = sess.run([optimizer, cost],\n",
        "                         feed_dict={enc_input: input_batch,\n",
        "                                    dec_input: output_batch,\n",
        "                                    targets: target_batch})\n",
        "      if epoch % 1000 == 0:\n",
        "          print('Epoch:', '%04d' % (epoch + 1),\n",
        "                'cost =', '{:.6f}'.format(loss))\n",
        "\n",
        "  print('Epoch:', '%04d' % (epoch + 1),\n",
        "        'cost =', '{:.6f}'.format(loss))\n",
        "  print('Training completed')\n",
        "  save_seq2seq_model(sess,filename[:filename.index(\".\")])"
      ],
      "execution_count": 0,
      "outputs": []
    },
    {
      "cell_type": "markdown",
      "metadata": {
        "id": "-2feNpG-LZx2",
        "colab_type": "text"
      },
      "source": [
        "### 2.2.4. Save Seq2Seq Model"
      ]
    },
    {
      "cell_type": "code",
      "metadata": {
        "id": "sflUAgV4L1o8",
        "colab_type": "code",
        "colab": {}
      },
      "source": [
        "# Function to save TensorFlow model in Google Drive\n",
        "def save_seq2seq_model(sess,filename):\n",
        "  saver = tf.train.Saver()\n",
        "  save_path = saver.save(sess, \"/content/gdrive/My Drive/chatbot/\"+filename+\"/seq2seq_model_\"+filename+\".ckpt\")\n",
        "  print(\"Model saved in path: %s\" % save_path)"
      ],
      "execution_count": 0,
      "outputs": []
    },
    {
      "cell_type": "markdown",
      "metadata": {
        "id": "4zFo6YppL6w3",
        "colab_type": "text"
      },
      "source": [
        "### 2.2.5. Load Seq2Seq Model"
      ]
    },
    {
      "cell_type": "code",
      "metadata": {
        "id": "OtNxLzDGMCan",
        "colab_type": "code",
        "colab": {}
      },
      "source": [
        "# Function to restore TensorFlow model from Google Drive\n",
        "def load_seq2seq_model(i, graph,sess):\n",
        "    new_saver = tf.train.import_meta_graph('/content/gdrive/My Drive/chatbot/'+lisdataset[i]+'/seq2seq_model_'+lisdataset[i]+'.ckpt.meta')\n",
        "    new_saver.restore(sess, '/content/gdrive/My Drive/chatbot/'+lisdataset[i]+'/seq2seq_model_'+lisdataset[i]+'.ckpt')\n",
        "    enc_input_train = graph.get_tensor_by_name(\"enc_input_train:0\")\n",
        "    dec_input_train = graph.get_tensor_by_name(\"dec_input_train:0\")\n",
        "    targets_train = graph.get_tensor_by_name(\"targets_train:0\")\n",
        "    model_train = graph.get_tensor_by_name(\"model/BiasAdd:0\")\n",
        "    prediction = tf.argmax(model_train,2)\n",
        "    return enc_input_train, dec_input_train, targets_train, prediction"
      ],
      "execution_count": 0,
      "outputs": []
    },
    {
      "cell_type": "markdown",
      "metadata": {
        "id": "a4mpRpocePLN",
        "colab_type": "text"
      },
      "source": [
        "# 3 - Evaluation (Running chatbot)"
      ]
    },
    {
      "cell_type": "markdown",
      "metadata": {
        "id": "KEW1zMgVMREr",
        "colab_type": "text"
      },
      "source": [
        "## 3.1. Start chatting"
      ]
    },
    {
      "cell_type": "code",
      "metadata": {
        "id": "LPHCb-bneTI9",
        "colab_type": "code",
        "colab": {}
      },
      "source": [
        "# Function to start the chat session. It takes in the question, predicts an answer and return the answer\n",
        "def start_chatting(sess, sentence, i,enc_input_train, dec_input_train, targets_train, prediction):\n",
        "  seq_data_orig = [sentence, '_U_']\n",
        "  seq_data, num_dic, dic_len, max_input_words_amount, max_output_words_amount, unique_words = enumerate_question_and_answer(lisdataset[i]+\".tsv\")\n",
        "  input_batch, output_batch, target_batch = make_batch([seq_data_orig], num_dic, max_input_words_amount,ft_sg_model_saved)\n",
        "  result = sess.run(prediction,\n",
        "                         feed_dict={enc_input_train: input_batch,\n",
        "                                    dec_input_train: output_batch,\n",
        "                                    targets_train: target_batch}) \n",
        "  decoded = [unique_words[i] for i in result[0]]\n",
        "  #Remove anything after '_E_'        \n",
        "  if \"_E_\" in decoded:\n",
        "      end = decoded.index('_E_')\n",
        "      translated = ' '.join(decoded[:end])\n",
        "  else :\n",
        "      translated = ' '.join(decoded[:])\n",
        "  return translated"
      ],
      "execution_count": 0,
      "outputs": []
    },
    {
      "cell_type": "markdown",
      "metadata": {
        "id": "P28Z1k36MZuo",
        "colab_type": "text"
      },
      "source": [
        "## 3.2. Change Personality"
      ]
    },
    {
      "cell_type": "markdown",
      "metadata": {
        "id": "U8OBtJfvMgL_",
        "colab_type": "text"
      },
      "source": [
        "To change personality to \"Comic\" enter \"0\"\n",
        "\n",
        "To change personality to \"Friend\" enter \"1\"\n",
        "\n",
        "To change personality to \"Professional\" enter \"2\" "
      ]
    },
    {
      "cell_type": "markdown",
      "metadata": {
        "id": "y50Ep8KKMZ99",
        "colab_type": "text"
      },
      "source": [
        "## 3.3. Save chat log"
      ]
    },
    {
      "cell_type": "code",
      "metadata": {
        "id": "bbZ6oOu6MaGJ",
        "colab_type": "code",
        "colab": {}
      },
      "source": [
        "# Function to save a chat log text file and write that chat log in Google Drive\n",
        "def save_chat_log(file_handle,string):  \n",
        "  file_handle.write(string)\n",
        "def write_chat_log():\n",
        "  with open('./chat_log.txt','r') as f_read:\n",
        "    text = f_read.readlines()\n",
        "  with open('/content/gdrive/My Drive/chatbot/chat_log.txt', 'w') as f:\n",
        "    f.write(\"\".join(text))"
      ],
      "execution_count": 0,
      "outputs": []
    },
    {
      "cell_type": "markdown",
      "metadata": {
        "id": "HpomO_3YNI5X",
        "colab_type": "text"
      },
      "source": [
        "## 3.5. Execute program"
      ]
    },
    {
      "cell_type": "markdown",
      "metadata": {
        "id": "_7J5hS_SOIUU",
        "colab_type": "text"
      },
      "source": [
        "### 3.5.1. Execute program - training mode"
      ]
    },
    {
      "cell_type": "code",
      "metadata": {
        "id": "xhWYz7NQOfLV",
        "colab_type": "code",
        "outputId": "77c2ea44-4ecd-4cd1-88e9-7205c2e4bdfe",
        "colab": {
          "base_uri": "https://localhost:8080/",
          "height": 280
        }
      },
      "source": [
        "# import all the libraries\n",
        "import os\n",
        "os.environ['TF_CPP_MIN_LOG_LEVEL'] = '3' \n",
        "import json\n",
        "import re\n",
        "import tensorflow as tf\n",
        "tf.logging.set_verbosity(tf.logging.ERROR)\n",
        "import numpy as np\n",
        "import pandas as pd\n",
        "import nltk\n",
        "from gensim.models import FastText\n",
        "nltk.download('wordnet')\n",
        "nltk.download('punkt')\n",
        "from gensim.parsing.preprocessing import preprocess_string,strip_punctuation, strip_numeric, strip_multiple_whitespaces, strip_non_alphanum\n",
        "from nltk.stem.porter import *\n",
        "from nltk.stem import WordNetLemmatizer\n",
        "from nltk.tokenize import word_tokenize\n",
        "from google.colab import drive\n",
        "!pip install paramiko\n",
        "import warnings\n",
        "warnings.filterwarnings(\"ignore\", category=DeprecationWarning)\n",
        "\n",
        "\n",
        "drive.mount('/content/gdrive',force_remount=True)\n",
        "\n",
        "driver = setup_google_drive()\n",
        "\n",
        "download_personality_data(driver)\n",
        "\n",
        "dialogue_list = download_and_read_word_embed_data(driver)\n",
        "\n",
        "#These 2 statements are commented as word2vec model is already trained and uploaded \n",
        "ft_sg_model = train_word2vec_model(dialogue_list)\n",
        "\n",
        "save_word2vec_model(ft_sg_model)\n",
        "\n",
        "ft_sg_model_saved = load_word2vec_model()\n",
        "\n",
        "#This statement is commented as seq2seq model is already trained and uploaded\n",
        "saving_models = [build_train_save_seq2seq_model(file, ft_sg_model_saved, 256) for \\\n",
        "                 file in [\"qna_chitchat_the_comic.tsv\",\"qna_chitchat_the_friend.tsv\"]]"
      ],
      "execution_count": 18,
      "outputs": [
        {
          "output_type": "stream",
          "text": [
            "[nltk_data] Downloading package wordnet to /root/nltk_data...\n",
            "[nltk_data]   Package wordnet is already up-to-date!\n",
            "[nltk_data] Downloading package punkt to /root/nltk_data...\n",
            "[nltk_data]   Package punkt is already up-to-date!\n",
            "Requirement already satisfied: paramiko in /usr/local/lib/python3.6/dist-packages (2.7.1)\n",
            "Requirement already satisfied: pynacl>=1.0.1 in /usr/local/lib/python3.6/dist-packages (from paramiko) (1.3.0)\n",
            "Requirement already satisfied: cryptography>=2.5 in /usr/local/lib/python3.6/dist-packages (from paramiko) (2.8)\n",
            "Requirement already satisfied: bcrypt>=3.1.3 in /usr/local/lib/python3.6/dist-packages (from paramiko) (3.1.7)\n",
            "Requirement already satisfied: cffi>=1.4.1 in /usr/local/lib/python3.6/dist-packages (from pynacl>=1.0.1->paramiko) (1.13.2)\n",
            "Requirement already satisfied: six in /usr/local/lib/python3.6/dist-packages (from pynacl>=1.0.1->paramiko) (1.12.0)\n",
            "Requirement already satisfied: pycparser in /usr/local/lib/python3.6/dist-packages (from cffi>=1.4.1->pynacl>=1.0.1->paramiko) (2.19)\n",
            "Mounted at /content/gdrive\n"
          ],
          "name": "stdout"
        },
        {
          "output_type": "stream",
          "text": [
            "/usr/local/lib/python3.6/dist-packages/smart_open/smart_open_lib.py:402: UserWarning: This function is deprecated, use smart_open.open instead. See the migration notes for details: https://github.com/RaRe-Technologies/smart_open/blob/master/README.rst#migrating-to-the-new-open-function\n",
            "  'See the migration notes for details: %s' % _MIGRATION_NOTES_URL\n"
          ],
          "name": "stderr"
        }
      ]
    },
    {
      "cell_type": "code",
      "metadata": {
        "id": "MxKeA5s00-sZ",
        "colab_type": "code",
        "colab": {}
      },
      "source": [
        "saving_models = [build_train_save_seq2seq_model(file, ft_sg_model_saved, 128) for \\\n",
        "                 file in [\"qna_chitchat_the_professional.tsv\"]]"
      ],
      "execution_count": 0,
      "outputs": []
    },
    {
      "cell_type": "markdown",
      "metadata": {
        "id": "65cZTuQ_OeI7",
        "colab_type": "text"
      },
      "source": [
        "### 3.5.2. Execute program - chatting mode"
      ]
    },
    {
      "cell_type": "markdown",
      "metadata": {
        "id": "D7LrbcP_PKap",
        "colab_type": "text"
      },
      "source": [
        "*Please include lines to start chatting with the bot.*"
      ]
    },
    {
      "cell_type": "code",
      "metadata": {
        "id": "D6ic_-1pjFoC",
        "colab_type": "code",
        "outputId": "48f41987-7547-408b-df54-eff678558484",
        "colab": {
          "base_uri": "https://localhost:8080/",
          "height": 399
        }
      },
      "source": [
        "tf.logging.set_verbosity(tf.logging.ERROR)\n",
        "with open(\"./chat_log.txt\", 'w') as f:\n",
        "  tf.reset_default_graph()\n",
        "  graph = tf.get_default_graph()\n",
        "  print(\"<BEGIN CHAT>\")\n",
        "  print(\"<To Change Personality at any time, enter 0 for Comic, 1 for Friend, 2 for Professional, \"\"Exit\"\" to Exit>\")\n",
        "  save_chat_log(f,\"<BEGIN CHAT>\"+\"\\n\")\n",
        "  lisdataset=[\"qna_chitchat_the_comic\",\"qna_chitchat_the_friend\",\"qna_chitchat_the_professional\"]\n",
        "  i=2\n",
        "  ex=\"\"\n",
        "  change_personality=False\n",
        "  while(not change_personality):\n",
        "    if (ex.lower()==\"exit\"):\n",
        "      break\n",
        "    change_personality=True\n",
        "    tf.reset_default_graph()\n",
        "    graph = tf.get_default_graph()\n",
        "    while (change_personality):\n",
        "      with tf.Session() as sess:\n",
        "        init=tf.global_variables_initializer()\n",
        "        sess.run(init)      \n",
        "        enc_input_train, dec_input_train, targets_train, prediction= load_seq2seq_model(i, graph,sess)\n",
        "        inputtext = input(\"User: \")  \n",
        "        save_chat_log(f,\"User: \"+inputtext+\"\\n\")\n",
        "        if (inputtext==\"0\"):\n",
        "          i=0\n",
        "          print(\"<PERSONALITY CHANGED>: \"+lisdataset[i].split(\"_\")[len(lisdataset[i].split(\"_\"))-1].upper())\n",
        "          save_chat_log(f,\"<PERSONALITY CHANGED>: \"+lisdataset[i].split(\"_\")[len(lisdataset[i].split(\"_\"))-1].upper()+\"\\n\")\n",
        "        if (inputtext==\"1\"):\n",
        "          i=1\n",
        "          print(\"<PERSONALITY CHANGED>: \"+lisdataset[i].split(\"_\")[len(lisdataset[i].split(\"_\"))-1].upper())\n",
        "          save_chat_log(f,\"<PERSONALITY CHANGED>: \"+lisdataset[i].split(\"_\")[len(lisdataset[i].split(\"_\"))-1].upper()+\"\\n\")\n",
        "        if (inputtext==\"2\"):\n",
        "          i=2\n",
        "          print(\"<PERSONALITY CHANGED>: \"+lisdataset[i].split(\"_\")[len(lisdataset[i].split(\"_\"))-1].upper())\n",
        "          save_chat_log(f,\"<PERSONALITY CHANGED>: \"+lisdataset[i].split(\"_\")[len(lisdataset[i].split(\"_\"))-1].upper()+\"\\n\")\n",
        "        if (inputtext.lower()==\"exit\"):\n",
        "          ex=inputtext\n",
        "          print(\"<END CHAT>\")\n",
        "          save_chat_log(f,\"<END CHAT>\"+\"\\n\")\n",
        "          break\n",
        "        if(inputtext==\"0\" or inputtext==\"1\" or inputtext==\"2\"):\n",
        "          change_personality=False\n",
        "          break\n",
        "        response= start_chatting(sess, ' '.join(text_preprocess(inputtext)), i,enc_input_train, dec_input_train, targets_train, prediction)  \n",
        "        print(\"Chatbot: \"+response)\n",
        "        save_chat_log(f,\"Chatbot: \"+response+\"\\n\")\n",
        "write_chat_log()        "
      ],
      "execution_count": 27,
      "outputs": [
        {
          "output_type": "stream",
          "text": [
            "<BEGIN CHAT>\n",
            "<To Change Personality at any time, enter 0 for Comic, 1 for Friend, 2 for Professional, Exit to Exit>\n",
            "User: Hi\n",
            "Chatbot: Hello.\n",
            "User: How are you?\n",
            "Chatbot: Great, thanks.\n",
            "User: Do you have any hobbies?\n",
            "Chatbot: I like you!\n",
            "User: Are you good at working?\n",
            "Chatbot: I try, but I don't always get it right.\n",
            "User: 0\n",
            "<PERSONALITY CHANGED>: COMIC\n",
            "User: Don't be oversmart\n",
            "Chatbot: Eating would require a lot of things I don't have. Like a digestive system. And silverware.\n",
            "User: You are not very good at conversation\n",
            "Chatbot: My charms are hard to deny.\n",
            "User: 1\n",
            "<PERSONALITY CHANGED>: FRIEND\n",
            "User: I am depressed\n",
            "Chatbot: I'm giving you a virtual hug right now.\n",
            "User: Exit\n",
            "<END CHAT>\n"
          ],
          "name": "stdout"
        }
      ]
    }
  ]
}